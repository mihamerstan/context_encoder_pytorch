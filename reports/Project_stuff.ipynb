{
 "cells": [
  {
   "cell_type": "code",
   "execution_count": 6,
   "metadata": {
    "collapsed": false,
    "deletable": true,
    "editable": true
   },
   "outputs": [
    {
     "ename": "ImportError",
     "evalue": "No module named 'cv2.cv2'",
     "output_type": "error",
     "traceback": [
      "\u001b[0;31m---------------------------------------------------------------------------\u001b[0m",
      "\u001b[0;31mImportError\u001b[0m                               Traceback (most recent call last)",
      "\u001b[0;32m<ipython-input-6-a21bfc32226d>\u001b[0m in \u001b[0;36m<module>\u001b[0;34m()\u001b[0m\n\u001b[1;32m      5\u001b[0m \u001b[0;32mimport\u001b[0m \u001b[0mnumpy\u001b[0m \u001b[0;32mas\u001b[0m \u001b[0mnp\u001b[0m\u001b[0;34m\u001b[0m\u001b[0m\n\u001b[1;32m      6\u001b[0m \u001b[0;32mimport\u001b[0m \u001b[0mimportlib\u001b[0m\u001b[0;34m\u001b[0m\u001b[0m\n\u001b[0;32m----> 7\u001b[0;31m \u001b[0;32mfrom\u001b[0m \u001b[0mcv2\u001b[0m \u001b[0;32mimport\u001b[0m  \u001b[0mpyrdown\u001b[0m\u001b[0;34m\u001b[0m\u001b[0m\n\u001b[0m\u001b[1;32m      8\u001b[0m \u001b[0;32mfrom\u001b[0m \u001b[0mskimage\u001b[0m\u001b[0;34m.\u001b[0m\u001b[0mcolor\u001b[0m \u001b[0;32mimport\u001b[0m \u001b[0mrgb2gray\u001b[0m\u001b[0;34m\u001b[0m\u001b[0m\n\u001b[1;32m      9\u001b[0m \u001b[0;32mimport\u001b[0m \u001b[0mpickle\u001b[0m\u001b[0;34m\u001b[0m\u001b[0m\n",
      "\u001b[0;32m/home/awd275/miniconda3/envs/Inpainting/lib/python3.7/site-packages/cv2/__init__.py\u001b[0m in \u001b[0;36m<module>\u001b[0;34m()\u001b[0m\n\u001b[1;32m      3\u001b[0m \u001b[0;32mimport\u001b[0m \u001b[0msys\u001b[0m\u001b[0;34m\u001b[0m\u001b[0m\n\u001b[1;32m      4\u001b[0m \u001b[0;34m\u001b[0m\u001b[0m\n\u001b[0;32m----> 5\u001b[0;31m \u001b[0;32mfrom\u001b[0m \u001b[0;34m.\u001b[0m\u001b[0mcv2\u001b[0m \u001b[0;32mimport\u001b[0m \u001b[0;34m*\u001b[0m\u001b[0;34m\u001b[0m\u001b[0m\n\u001b[0m\u001b[1;32m      6\u001b[0m \u001b[0;32mfrom\u001b[0m \u001b[0;34m.\u001b[0m\u001b[0mdata\u001b[0m \u001b[0;32mimport\u001b[0m \u001b[0;34m*\u001b[0m\u001b[0;34m\u001b[0m\u001b[0m\n\u001b[1;32m      7\u001b[0m \u001b[0;34m\u001b[0m\u001b[0m\n",
      "\u001b[0;31mImportError\u001b[0m: No module named 'cv2.cv2'"
     ]
    }
   ],
   "source": [
    "from sklearn.datasets import fetch_olivetti_faces\n",
    "import sys\n",
    "import matplotlib.pyplot as plt\n",
    "import numpy as np\n",
    "import importlib\n",
    "import cv2\n",
    "from skimage.color import rgb2gray\n",
    "import pickle"
   ]
  },
  {
   "cell_type": "code",
   "execution_count": null,
   "metadata": {
    "collapsed": false,
    "deletable": true,
    "editable": true
   },
   "outputs": [],
   "source": [
    "!python -V"
   ]
  },
  {
   "cell_type": "code",
   "execution_count": null,
   "metadata": {
    "collapsed": false,
    "deletable": true,
    "editable": true
   },
   "outputs": [],
   "source": [
    "imp.find_module('numpy')"
   ]
  },
  {
   "cell_type": "code",
   "execution_count": null,
   "metadata": {
    "collapsed": false,
    "deletable": true,
    "editable": true
   },
   "outputs": [],
   "source": [
    "print(sys.path)"
   ]
  },
  {
   "cell_type": "code",
   "execution_count": null,
   "metadata": {
    "collapsed": true,
    "deletable": true,
    "editable": true
   },
   "outputs": [],
   "source": [
    "def plot_image_grid(images, title, image_shape=(64,64),n_col=5, n_row=2, bycol=0, row_titles=None,col_titles=None):\n",
    "    fig,axes = plt.subplots(nrows=n_row,ncols=n_col,figsize=(2. * n_col, 2.26 * n_row))\n",
    "    for i, comp in enumerate(images):\n",
    "        row,col = reversed(divmod(i,n_row)) if bycol else divmod(i,n_col)       \n",
    "        cax = axes[row,col]\n",
    "        cax.imshow(comp.reshape(image_shape), cmap='gray',\n",
    "                   interpolation='nearest',\n",
    "                   vmin=comp.min(), vmax=comp.max())\n",
    "        cax.set_xticks(())\n",
    "        cax.set_yticks(())\n",
    "    if row_titles is not None :\n",
    "        for ax,row in zip(axes[:,0],row_titles) :\n",
    "            ax.set_ylabel(row,size='large')\n",
    "    if col_titles is not None :\n",
    "        for ax,col in zip(axes[0],col_titles) :\n",
    "            ax.set_title(col)\n",
    "    \n",
    "    fig.suptitle(title)\n",
    "    fig.tight_layout()\n",
    "    plt.subplots_adjust(top=0.9)\n",
    "    plt.savefig(title + '.pdf',bbox_inches='tight')\n",
    "    plt.show()"
   ]
  },
  {
   "cell_type": "code",
   "execution_count": null,
   "metadata": {
    "collapsed": true,
    "deletable": true,
    "editable": true
   },
   "outputs": [],
   "source": [
    "def make_pyramids(images_list,num_levels):\n",
    "    '''\n",
    "    return struct: list_1 of list_2 of arrays\n",
    "    list_2 has length equal to num_levels, and contains num_levels amount of pyramids\n",
    "    list_1 has length equal to len(images_list)\n",
    "    \n",
    "    Access the return by all_pyramids_list[image_index][level_index]\n",
    "    '''\n",
    "    all_pyramids_list = []\n",
    "    for image in images_list:\n",
    "        prev_level = image\n",
    "        one_pyramid_list = [image]\n",
    "        for ii in range(num_levels):\n",
    "            im_down = cv2.pyrDown(prev_level)\n",
    "            prev_level = im_down\n",
    "            one_pyramid_list.append(im_down)\n",
    "        all_pyramids_list.append(one_pyramid_list)\n",
    "    return all_pyramids_list\n",
    "            "
   ]
  },
  {
   "cell_type": "code",
   "execution_count": null,
   "metadata": {
    "collapsed": true,
    "deletable": true,
    "editable": true
   },
   "outputs": [],
   "source": [
    "def PCA_pyramids(all_pyramids_list):\n",
    "    '''\n",
    "    for each level in each image pyramid, do a PCA on it, and store the principal components.\n",
    "    \n",
    "    !!ONLY HANDLES SQUARE IMAGES!!\n",
    "    '''\n",
    "    num_pyramids = len(all_pyramids_list)\n",
    "    num_pixels = all_pyramids_list[0][0].shape[0]*all_pyramids_list[0][0].shape[1]\n",
    "    num_levels = len(all_pyramids_list[0])\n",
    "    eig_vals_vecs_per_level = []\n",
    "    for level_idx in range(num_levels):\n",
    "        num_pixels = all_pyramids_list[0][level_idx].shape[0]*all_pyramids_list[0][level_idx].shape[1]\n",
    "        X = np.zeros((num_pyramids,num_pixels))\n",
    "\n",
    "        for img_idx in range(num_pyramids):\n",
    "            image = all_pyramids_list[img_idx][level_idx]\n",
    "            #We \"ravel\" the image into a 1d array, we will have to unravel it later\n",
    "            X[img_idx,:] = np.reshape(image,(-1,num_pixels))\n",
    "        #Perform PCA on X\n",
    "        cov = (X-X.mean(axis=0)).T@(X-X.mean(axis=0))\n",
    "        eig_vals,eig_vecs = np.linalg.eigh(cov)\n",
    "        #unravel each eigenvector\n",
    "        new_eigvec_list = []\n",
    "        for ii in range(len(eig_vecs)):\n",
    "            num_pixels_per_side = int(num_pixels**.5)#this is square root of total pixels\n",
    "            new_eig_vec = np.reshape(eig_vecs[:,ii],(num_pixels_per_side,num_pixels_per_side),'F')\n",
    "            new_eigvec_list.append(new_eig_vec.T) # have to transpose for some reason? this isnt a good sign\n",
    "        eig_vals_vecs_per_level.append((eig_vals,new_eigvec_list))\n",
    "        \n",
    "    return eig_vals_vecs_per_level\n",
    "\n",
    "\n",
    "            "
   ]
  },
  {
   "cell_type": "markdown",
   "metadata": {
    "deletable": true,
    "editable": true
   },
   "source": [
    "# Olivetti Faces\n"
   ]
  },
  {
   "cell_type": "code",
   "execution_count": null,
   "metadata": {
    "collapsed": true,
    "deletable": true,
    "editable": true
   },
   "outputs": [],
   "source": [
    "data = fetch_olivetti_faces()\n",
    "labels = data.target\n",
    "data.keys()\n",
    "im = data.images"
   ]
  },
  {
   "cell_type": "code",
   "execution_count": null,
   "metadata": {
    "collapsed": false,
    "deletable": true,
    "editable": true
   },
   "outputs": [],
   "source": [
    "im.shape"
   ]
  },
  {
   "cell_type": "code",
   "execution_count": null,
   "metadata": {
    "collapsed": true,
    "deletable": true,
    "editable": true
   },
   "outputs": [],
   "source": [
    "all_pyramids_list = make_pyramids(data.images,3)\n",
    "eig_vals_vecs_per_level = PCA_pyramids(all_pyramids_list)"
   ]
  },
  {
   "cell_type": "code",
   "execution_count": null,
   "metadata": {
    "collapsed": false,
    "deletable": true,
    "editable": true
   },
   "outputs": [],
   "source": [
    "for level,(eig_vals,eig_vecs) in enumerate(eig_vals_vecs_per_level):\n",
    "    #eig_vals is sorted from lowest to highest\n",
    "    #Take top 10 eigenvectors\n",
    "    images = eig_vecs[-10:] \n",
    "    images = np.flipud(images)\n",
    "    plot_title = 'Olivetti: ' + 'Top 10 eigenvectors: level = ' +str(level)\n",
    "    plot_image_grid(images,plot_title ,image_shape=eig_vecs[0].shape)"
   ]
  },
  {
   "cell_type": "code",
   "execution_count": null,
   "metadata": {
    "collapsed": false,
    "deletable": true,
    "editable": true
   },
   "outputs": [],
   "source": [
    "pickle.dump(eig_vals_vecs_per_level, open('olivetti_pyramids.p','wb'))"
   ]
  },
  {
   "cell_type": "markdown",
   "metadata": {
    "deletable": true,
    "editable": true
   },
   "source": [
    "## Note that the first result matches Homework 2, eigenfaces, problem c"
   ]
  },
  {
   "cell_type": "markdown",
   "metadata": {
    "deletable": true,
    "editable": true
   },
   "source": [
    "# CelebA "
   ]
  },
  {
   "cell_type": "code",
   "execution_count": null,
   "metadata": {
    "collapsed": true,
    "deletable": true,
    "editable": true
   },
   "outputs": [],
   "source": [
    "input_image_dir = '../celebA_output/'\n",
    "original_images_path_list = []\n",
    "reconstructed_images_path_list = []\n",
    "\n",
    "for file in os.listdir(input_image_dir):\n",
    "    if file.endswith(\"orig.png\"):\n",
    "        original_images_path_list.append(file)\n",
    "for file in os.listdir(input_image_dir):\n",
    "    if file.endswith(\"recons.png\"):\n",
    "        reconstructed_images_path_list.append(file)\n",
    "original_images = [rgb2gray(plt.imread(input_image_dir+file)) for file in original_images_path_list]\n",
    "    \n",
    "    "
   ]
  },
  {
   "cell_type": "code",
   "execution_count": null,
   "metadata": {
    "collapsed": true,
    "deletable": true,
    "editable": true
   },
   "outputs": [],
   "source": [
    "all_pyramids_list = make_pyramids(original_images,3)\n",
    "eig_vals_vecs_per_level = PCA_pyramids(all_pyramids_list)"
   ]
  },
  {
   "cell_type": "code",
   "execution_count": null,
   "metadata": {
    "collapsed": true,
    "deletable": true,
    "editable": true
   },
   "outputs": [],
   "source": [
    "for level, (eig_vals,eig_vecs) in enumerate(eig_vals_vecs_per_level):\n",
    "    #eig_vals is sorted from lowest to highest\n",
    "    #Take top 10 eigenvectors\n",
    "    images = eig_vecs[-10:]\n",
    "    images = np.flipud(images)\n",
    "    plot_title = \"CelebA Top 10 eigenvectors: \" + level\n",
    "    plot_image_grid(images,'Top 10 eigenvectors',image_shape=eig_vecs[0].shape)"
   ]
  },
  {
   "cell_type": "code",
   "execution_count": null,
   "metadata": {
    "collapsed": true,
    "deletable": true,
    "editable": true
   },
   "outputs": [],
   "source": [
    "pickle.dump('eig_vals_vecs_per_level', 'celebA_pyramids.p')"
   ]
  },
  {
   "cell_type": "code",
   "execution_count": null,
   "metadata": {
    "collapsed": false,
    "deletable": true,
    "editable": true
   },
   "outputs": [],
   "source": []
  },
  {
   "cell_type": "code",
   "execution_count": null,
   "metadata": {
    "collapsed": true,
    "deletable": true,
    "editable": true
   },
   "outputs": [],
   "source": []
  },
  {
   "cell_type": "code",
   "execution_count": null,
   "metadata": {
    "collapsed": true,
    "deletable": true,
    "editable": true
   },
   "outputs": [],
   "source": []
  }
 ],
 "metadata": {
  "kernelspec": {
   "display_name": "Python 3",
   "language": "python",
   "name": "python3"
  },
  "language_info": {
   "codemirror_mode": {
    "name": "ipython",
    "version": 3
   },
   "file_extension": ".py",
   "mimetype": "text/x-python",
   "name": "python",
   "nbconvert_exporter": "python",
   "pygments_lexer": "ipython3",
   "version": "3.5.3"
  }
 },
 "nbformat": 4,
 "nbformat_minor": 4
}
