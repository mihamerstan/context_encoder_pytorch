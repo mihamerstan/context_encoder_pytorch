{
 "cells": [
  {
   "cell_type": "code",
   "execution_count": 1,
   "metadata": {},
   "outputs": [],
   "source": [
    "import random\n",
    "\n",
    "import torch\n",
    "import matplotlib.pyplot as plt\n",
    "from matplotlib import colors\n",
    "import numpy as np\n",
    "import numpy.linalg as LA\n",
    "import pandas as pd\n",
    "import jax.numpy.linalg as JLA"
   ]
  },
  {
   "cell_type": "markdown",
   "metadata": {},
   "source": [
    "### Load the images"
   ]
  },
  {
   "cell_type": "code",
   "execution_count": 3,
   "metadata": {},
   "outputs": [],
   "source": [
    "jacob_filename = 'jacob_64px_202474.pkl'\n",
    "size = 64\n",
    "jacob = torch.load(\"jacobians/\"+jacob_filename)\n",
    "# input_cropped_64_474 = torch.load(\"jacobians/input_cropped_64px_202474.pkl\")\n",
    "# filled_center_64_474 = torch.load(\"jacobians/filled_center_64px_202476.pkl\")\n",
    "# jacob_64_535 = torch.load(\"jacobians/jacob_64px_202476.pkl\")\n",
    "# input_cropped_64_535 = torch.load(\"jacobians/input_cropped_64px_202476.pkl\")\n",
    "# jacob_16_474 = torch.load(\"jacobians/jacob_16px_202474.pkl\")\n",
    "# input_cropped_16_474 = torch.load(\"jacobians/input_cropped_16px_202474.pkl\")\n",
    "# filled_center_16_474 = torch.load(\"jacobians/filled_center_16px_202476.pkl\")\n",
    "# jacob_16_535 = torch.load(\"jacobians/jacob_16px_202476.pkl\")\n",
    "# input_cropped_16_535 = torch.load(\"jacobians/input_cropped_16px_202476.pkl\")\n",
    "\n",
    "jacob = jacob[0,:,:,:,0,:,:,:]\n",
    "# input_cropped_64_474 = input_cropped_64_474[0,:,:,:]\n",
    "# filled_center_64_474 = filled_center_64_474[0,:,:,:]\n",
    "# jacob_64_535 = jacob_64_535[0,:,:,:,0,:,:,:]\n",
    "# input_cropped_64_535 = input_cropped_64_535[0,:,:,:]\n",
    "# jacob_16_474 = jacob_16_474[0,:,:,:,0,:,:,:]\n",
    "# input_cropped_16_474 = input_cropped_16_474[0,:,:,:]\n",
    "# filled_center_16_474 = filled_center_16_474[0,:,:,:]\n",
    "# jacob_16_535 = jacob_16_535[0,:,:,:,0,:,:,:]\n",
    "# input_cropped_16_535 = input_cropped_16_535[0,:,:,:]\n",
    "\n",
    "print(jacob.shape)"
   ]
  },
  {
   "cell_type": "markdown",
   "metadata": {},
   "source": [
    "### Flattening A_j for SVD"
   ]
  },
  {
   "cell_type": "code",
   "execution_count": 5,
   "metadata": {},
   "outputs": [],
   "source": [
    "# For 64x64\n",
    "# Each row of A_flat is jacob[j,i,k,:,:,:].flatten(), multiplied by input.flatten()\n",
    "if size = 64:\n",
    "    A_flat = torch.zeros([12288,49152])\n",
    "    for j in range(3):\n",
    "        for i in range(64):\n",
    "            for k in range(64):\n",
    "                ix = j*(64*64)+i*64+k\n",
    "                A_flat[ix,:] = jacob[j,i,k,:,:,:].flatten()\n",
    "    # A_flat is the flattened Jacobian shape = [12288,49152]\n",
    "    \n",
    "elif size= 16:\n",
    "    # Each row of A_flat is jacob[j,i,k,:,:,:].flatten(), multiplied by input.flatten()\n",
    "    A_flat = torch.zeros([16*16*3,49152])\n",
    "    for j in range(3):\n",
    "        for i in range(16):\n",
    "            for k in range(16):\n",
    "                ix = j*(16*16)+i*16+k\n",
    "                A_flat[ix,:] = jacob[j,i,k,:,:,:].flatten()\n",
    "    # A_flat is the flattened Jacobian shape = [768,49152]\n",
    "\n",
    "else:\n",
    "    print(\"Invalid size\")\n",
    "    \n",
    "# Delete jacob to free up memory\n",
    "del(jacob)            "
   ]
  },
  {
   "cell_type": "markdown",
   "metadata": {},
   "source": [
    "## SVD"
   ]
  },
  {
   "cell_type": "code",
   "execution_count": 19,
   "metadata": {
    "scrolled": false
   },
   "outputs": [
    {
     "data": {
      "text/plain": [
       "DeviceArray([1.8530382e+01, 1.3065053e+01, 1.0947923e+01, ...,\n",
       "             2.3956146e-08, 1.7573061e-08, 1.1775765e-08], dtype=float32)"
      ]
     },
     "execution_count": 19,
     "metadata": {},
     "output_type": "execute_result"
    }
   ],
   "source": [
    "# u,s,vh = JLA.svd(A_flat,full_matrices=False)\n",
    "abs_sv = abs(s.flatten())\n",
    "abs_sv.sort()\n",
    "abs_sv"
   ]
  },
  {
   "cell_type": "code",
   "execution_count": 18,
   "metadata": {
    "scrolled": false
   },
   "outputs": [
    {
     "data": {
      "text/plain": [
       "(12288,)"
      ]
     },
     "execution_count": 18,
     "metadata": {},
     "output_type": "execute_result"
    }
   ],
   "source": [
    "# abs_sv = abs(s)\n"
   ]
  },
  {
   "cell_type": "code",
   "execution_count": 20,
   "metadata": {},
   "outputs": [
    {
     "data": {
      "text/plain": [
       "Text(0.5, 0, 'Count of singular values')"
      ]
     },
     "execution_count": 20,
     "metadata": {},
     "output_type": "execute_result"
    },
    {
     "data": {
      "image/png": "[encoded data removed]",
      "text/plain": [
       "<Figure size 432x288 with 1 Axes>"
      ]
     },
     "metadata": {
      "needs_background": "light"
     },
     "output_type": "display_data"
    }
   ],
   "source": [
    "plt.plot(abs_sv)\n",
    "plt.ylabel(\"abs(singular value)\")\n",
    "plt.xlabel(\"Count of singular values\")"
   ]
  },
  {
   "cell_type": "code",
   "execution_count": null,
   "metadata": {},
   "outputs": [],
   "source": [
    "# Save sing values\n",
    "pd.Series(s).to_pickle(\"jacobians/s_16_535.pkl\")"
   ]
  },
  {
   "cell_type": "code",
   "execution_count": null,
   "metadata": {},
   "outputs": [],
   "source": [
    "# Are the right and left singular vectors similar, if eigenvalues are large?\n"
   ]
  },
  {
   "cell_type": "code",
   "execution_count": 22,
   "metadata": {},
   "outputs": [
    {
     "ename": "ValueError",
     "evalue": "shapes (12288,) and (49152,) not aligned: 12288 (dim 0) != 49152 (dim 0)",
     "output_type": "error",
     "traceback": [
      "\u001b[0;31m---------------------------------------------------------------------------\u001b[0m",
      "\u001b[0;31mValueError\u001b[0m                                Traceback (most recent call last)",
      "\u001b[0;32m<ipython-input-22-357a909ca51d>\u001b[0m in \u001b[0;36m<module>\u001b[0;34m\u001b[0m\n\u001b[1;32m      4\u001b[0m         \u001b[0mleft\u001b[0m \u001b[0;34m=\u001b[0m \u001b[0mu\u001b[0m\u001b[0;34m[\u001b[0m\u001b[0;34m:\u001b[0m\u001b[0;34m,\u001b[0m\u001b[0mi\u001b[0m\u001b[0;34m]\u001b[0m\u001b[0;34m\u001b[0m\u001b[0;34m\u001b[0m\u001b[0m\n\u001b[1;32m      5\u001b[0m         \u001b[0mright\u001b[0m \u001b[0;34m=\u001b[0m \u001b[0mvh\u001b[0m\u001b[0;34m[\u001b[0m\u001b[0mi\u001b[0m\u001b[0;34m,\u001b[0m\u001b[0;34m:\u001b[0m\u001b[0;34m]\u001b[0m\u001b[0;34m\u001b[0m\u001b[0;34m\u001b[0m\u001b[0m\n\u001b[0;32m----> 6\u001b[0;31m         \u001b[0mcos\u001b[0m \u001b[0;34m=\u001b[0m \u001b[0mnp\u001b[0m\u001b[0;34m.\u001b[0m\u001b[0mdot\u001b[0m\u001b[0;34m(\u001b[0m\u001b[0mleft\u001b[0m\u001b[0;34m,\u001b[0m \u001b[0mright\u001b[0m\u001b[0;34m)\u001b[0m \u001b[0;34m/\u001b[0m \u001b[0;34m(\u001b[0m\u001b[0mLA\u001b[0m\u001b[0;34m.\u001b[0m\u001b[0mnorm\u001b[0m\u001b[0;34m(\u001b[0m\u001b[0mleft\u001b[0m\u001b[0;34m)\u001b[0m \u001b[0;34m*\u001b[0m \u001b[0mLA\u001b[0m\u001b[0;34m.\u001b[0m\u001b[0mnorm\u001b[0m\u001b[0;34m(\u001b[0m\u001b[0mright\u001b[0m\u001b[0;34m)\u001b[0m\u001b[0;34m)\u001b[0m\u001b[0;34m\u001b[0m\u001b[0;34m\u001b[0m\u001b[0m\n\u001b[0m\u001b[1;32m      7\u001b[0m         \u001b[0mcosines\u001b[0m\u001b[0;34m.\u001b[0m\u001b[0mappend\u001b[0m\u001b[0;34m(\u001b[0m\u001b[0mcos\u001b[0m\u001b[0;34m)\u001b[0m\u001b[0;34m\u001b[0m\u001b[0;34m\u001b[0m\u001b[0m\n",
      "\u001b[0;31mValueError\u001b[0m: shapes (12288,) and (49152,) not aligned: 12288 (dim 0) != 49152 (dim 0)"
     ]
    }
   ],
   "source": [
    "# Cosine between left and right singular vectors (Need to fix)\n",
    "cosines = []\n",
    "for i in range(128):\n",
    "    if abs(s[i])>0.02:\n",
    "        left = u[:,i]\n",
    "        right = vh[i,:]\n",
    "        cos = np.dot(left, right) / (LA.norm(left) * LA.norm(right))\n",
    "        cosines.append(cos)"
   ]
  },
  {
   "cell_type": "code",
   "execution_count": null,
   "metadata": {},
   "outputs": [],
   "source": [
    "plt.hist([abs(cos) for cos in cosines])"
   ]
  },
  {
   "cell_type": "code",
   "execution_count": null,
   "metadata": {},
   "outputs": [],
   "source": []
  },
  {
   "cell_type": "code",
   "execution_count": null,
   "metadata": {},
   "outputs": [],
   "source": []
  },
  {
   "cell_type": "code",
   "execution_count": null,
   "metadata": {
    "scrolled": true
   },
   "outputs": [],
   "source": []
  },
  {
   "cell_type": "code",
   "execution_count": null,
   "metadata": {},
   "outputs": [],
   "source": []
  },
  {
   "cell_type": "code",
   "execution_count": null,
   "metadata": {},
   "outputs": [],
   "source": []
  },
  {
   "cell_type": "code",
   "execution_count": null,
   "metadata": {},
   "outputs": [],
   "source": []
  },
  {
   "cell_type": "code",
   "execution_count": null,
   "metadata": {},
   "outputs": [],
   "source": []
  },
  {
   "cell_type": "code",
   "execution_count": null,
   "metadata": {},
   "outputs": [],
   "source": []
  },
  {
   "cell_type": "code",
   "execution_count": null,
   "metadata": {},
   "outputs": [],
   "source": []
  },
  {
   "cell_type": "code",
   "execution_count": null,
   "metadata": {},
   "outputs": [],
   "source": []
  },
  {
   "cell_type": "code",
   "execution_count": null,
   "metadata": {},
   "outputs": [],
   "source": []
  },
  {
   "cell_type": "code",
   "execution_count": null,
   "metadata": {},
   "outputs": [],
   "source": []
  },
  {
   "cell_type": "code",
   "execution_count": null,
   "metadata": {},
   "outputs": [],
   "source": [
    "channel=0\n",
    "# Zero out the internal window\n",
    "jacob_64_474[:,:,:,:,32:96,32:96] = 0\n",
    "jacob_64_535[:,:,:,:,32:96,32:96] = 0\n",
    "jacob_16_474[:,:,:,:,56:72,56:72] = 0\n",
    "jacob_16_535[:,:,:,:,56:72,56:72] = 0\n",
    "\n",
    "# Normalize each pixels weightings\n",
    "for i in range(64):\n",
    "    for j in range(64):\n",
    "        jacob_64_474[channel,i,j,0,:,:] = jacob_64_474[channel,i,j,0,:,:]/(jacob_64_474[channel,i,j,0,:,:].norm())\n",
    "        jacob_64_535[channel,i,j,0,:,:] = jacob_64_535[channel,i,j,0,:,:]/(jacob_64_535[channel,i,j,0,:,:].norm())\n",
    "for i in range(16):\n",
    "    for j in range(16):\n",
    "        jacob_16_474[channel,i,j,0,:,:] = jacob_16_474[channel,i,j,0,:,:]/(jacob_16_474[channel,i,j,0,:,:].norm())\n",
    "        jacob_16_535[channel,i,j,0,:,:] = jacob_16_535[channel,i,j,0,:,:]/(jacob_16_535[channel,i,j,0,:,:].norm())     "
   ]
  },
  {
   "cell_type": "markdown",
   "metadata": {},
   "source": [
    "## Percent of weight near border"
   ]
  },
  {
   "cell_type": "code",
   "execution_count": null,
   "metadata": {},
   "outputs": [],
   "source": [
    "# Run after the zeroing of the mask\n",
    "pct_border = 0.35\n",
    "# For 64x64\n",
    "inner_64 = int(np.floor(32-pct_border*32))\n",
    "outer_64 = int(np.floor(96+pct_border*32))\n",
    "\n",
    "inner_norm = np.linalg.norm(jacob_64_474[channel,32,63,channel,inner_64:outer_64,inner_64:outer_64])\n",
    "total_norm = np.linalg.norm(jacob_64_474[channel,32,63,channel,:,:])\n",
    "inner_norm/total_norm"
   ]
  },
  {
   "cell_type": "code",
   "execution_count": null,
   "metadata": {},
   "outputs": [],
   "source": [
    "# Run after the zeroing of the mask\n",
    "# pct_border = 0.1\n",
    "# For 64x64\n",
    "inner_16 = int(np.floor(56-pct_border*56))\n",
    "outer_16 = int(np.floor(72+pct_border*56))\n",
    "\n",
    "inner_norm = np.linalg.norm(jacob_16_474[channel,8,15,channel,inner_16:outer_16,inner_16:outer_16])\n",
    "total_norm = np.linalg.norm(jacob_16_474[channel,8,15,channel,:,:])\n",
    "inner_norm/total_norm"
   ]
  },
  {
   "cell_type": "code",
   "execution_count": null,
   "metadata": {},
   "outputs": [],
   "source": [
    "jacob_16_474[channel,8,8,channel,inner_16:outer_16,inner_16:outer_16].shape"
   ]
  },
  {
   "cell_type": "code",
   "execution_count": null,
   "metadata": {},
   "outputs": [],
   "source": []
  },
  {
   "cell_type": "code",
   "execution_count": null,
   "metadata": {},
   "outputs": [],
   "source": [
    "plt.plot([0.1,0.25,.35,0.5,1.0],[.903,.936,.953,.975,1],'-o',label='16x16')\n",
    "plt.plot([0.1,0.25,.35,0.5,1.0],[.523,.740,.819,.905,1],'-o',label='64x64')\n",
    "plt.ylim(0.5,1)\n",
    "plt.legend(fontsize=12,title='Mask size',title_fontsize=12)\n",
    "plt.ylabel(r'$\\phi_p$',fontsize=15)\n",
    "plt.xlabel(\"p (portion of input image)\",fontsize=12)\n",
    "plt.title(\"Center pixel\",fontsize=12)\n",
    "\n",
    "\n",
    "# plt.subplot(1,2,2)\n",
    "# plt.plot([0.1,0.25,.35,0.5,1.0],[0.946,0.967,.976,0.984,1],'-x',label='corner')\n",
    "# plt.plot([0.1,0.25,.35,0.5,1.0],[.922,.962,.974,.983,1],'-o',label='edge')\n",
    "# plt.ylim(0.5,1)\n",
    "# plt.legend(fontsize=12)\n",
    "# plt.title(\"16x16 pixel mask\",fontsize=12)\n",
    "# # plt.ylabel(r'$\\frac{\\Vert A_{inner}\\Vert_F}{\\Vert A_{total}\\Vert_F}$',fontsize=24)\n",
    "# plt.xlabel(\"Portion of total input image\",fontsize=12)"
   ]
  },
  {
   "cell_type": "code",
   "execution_count": null,
   "metadata": {},
   "outputs": [],
   "source": [
    "# plt.subplot(1,2,1)\n",
    "plt.plot([0.1,0.25,.35,0.5,1.0],[0.673,0.836,.888,0.931,1],'-x',label='corner')\n",
    "plt.plot([0.1,0.25,.35,0.5,1.0],[.700,.894,.922,.952,1],'-o',label='edge')\n",
    "plt.plot([0.1,0.25,.35,0.5,1.0],[.523,.740,.819,.905,1],'-o',label='center')\n",
    "plt.ylim(0.5,1)\n",
    "plt.legend(fontsize=12,title='Pixel location',title_fontsize=12)\n",
    "plt.ylabel(r'$\\phi_p$',fontsize=15)\n",
    "plt.xlabel(\"p (portion of input image)\",fontsize=12)\n",
    "plt.title(\"64x64 pixel mask\",fontsize=12)\n",
    "\n",
    "\n",
    "# plt.subplot(1,2,2)\n",
    "# plt.plot([0.1,0.25,.35,0.5,1.0],[0.946,0.967,.976,0.984,1],'-x',label='corner')\n",
    "# plt.plot([0.1,0.25,.35,0.5,1.0],[.922,.962,.974,.983,1],'-o',label='edge')\n",
    "# plt.plot([0.1,0.25,.35,0.5,1.0],[.903,.936,.953,.975,1],'-o',label='center')\n",
    "# plt.ylim(0.5,1)\n",
    "# plt.legend(fontsize=12)\n",
    "# plt.title(\"16x16 pixel mask\",fontsize=12)\n",
    "# # plt.ylabel(r'$\\frac{\\Vert A_{inner}\\Vert_F}{\\Vert A_{total}\\Vert_F}$',fontsize=24)\n",
    "# plt.xlabel(\"Portion of total input image\",fontsize=12)"
   ]
  },
  {
   "cell_type": "markdown",
   "metadata": {},
   "source": [
    "## Combined Image"
   ]
  },
  {
   "cell_type": "code",
   "execution_count": 2,
   "metadata": {},
   "outputs": [],
   "source": [
    "# set the colormap and centre the colorbar\n",
    "class MidpointNormalize(colors.Normalize):\n",
    "\t\"\"\"\n",
    "\tNormalise the colorbar so that diverging bars work there way either side from a prescribed midpoint value)\n",
    "\n",
    "\te.g. im=ax1.imshow(array, norm=MidpointNormalize(midpoint=0.,vmin=-100, vmax=100))\n",
    "\t\"\"\"\n",
    "\tdef __init__(self, vmin=None, vmax=None, midpoint=None, clip=False):\n",
    "\t\tself.midpoint = midpoint\n",
    "\t\tcolors.Normalize.__init__(self, vmin, vmax, clip)\n",
    "\n",
    "\tdef __call__(self, value, clip=None):\n",
    "\t\t# I'm ignoring masked values and all kinds of edge cases to make a\n",
    "\t\t# simple example...\n",
    "\t\tx, y = [self.vmin, self.midpoint, self.vmax], [0, 0.5, 1]\n",
    "\t\treturn np.ma.masked_array(np.interp(value, x, y), np.isnan(value))"
   ]
  },
  {
   "cell_type": "code",
   "execution_count": null,
   "metadata": {},
   "outputs": [],
   "source": [
    "vmin = -.15\n",
    "vmax = .15\n",
    "cmap=plt.cm.bwr\n",
    "px0 = [0,0] \n",
    "px1 = [8,8] # Center\n",
    "px2 = [32,32] # Eyes?\n",
    "px3 = [32,63] # Other eye\n",
    "px4 = [0,0] \n",
    "px5 = [3,3] # Center\n",
    "px6 = [8,8] # Eyes?\n",
    "px7 = [8,15] # Other eye\n",
    "\n",
    "channel = 0\n",
    "titles = ['#1']\n",
    "\n",
    "fig, axes = plt.subplots(nrows=2, ncols=4,figsize=[25,18])\n",
    "for i,px,ax in zip(range(4),[px0,px1,px2,px3],axes.flat):\n",
    "    im = ax.imshow(jacob_64_535[channel,px[0],px[1],0,:,:],cmap=cmap,norm=MidpointNormalize(midpoint=0,vmin=vmin, vmax=vmax))\n",
    "    ax.set_title(\"64x64 mask: \"+str(px),fontsize=15)\n",
    "for i,px,ax in zip(range(4,8),[px4,px5,px6,px7],axes.flat[4:]):\n",
    "    im = ax.imshow(jacob_16_535[channel,px[0],px[1],0,:,:],cmap=cmap,norm=MidpointNormalize(midpoint=0,vmin=vmin, vmax=vmax))\n",
    "    ax.set_title(\"16x16 mask: \"+str(px),fontsize=15)\n",
    "   \n",
    "    \n",
    "fig.colorbar(im, orientation='horizontal',shrink=0.9,aspect=70,pad=0.05,ax=axes.ravel().tolist())\n",
    "\n",
    "plt.show()"
   ]
  },
  {
   "cell_type": "markdown",
   "metadata": {},
   "source": [
    "### Pixel impact - 64x64"
   ]
  },
  {
   "cell_type": "code",
   "execution_count": null,
   "metadata": {
    "scrolled": true
   },
   "outputs": [],
   "source": [
    "# px0 = [0,63] \n",
    "# px1 = [16,16] # Center\n",
    "# px2 = [32,32] # Eyes?\n",
    "# px3 = [63,63] # Other eye\n",
    "# channel = 0\n",
    "# titles = ['#1']\n",
    "\n",
    "# fig, axes = plt.subplots(nrows=2, ncols=2,figsize=[15,15])\n",
    "# for i,px,ax in zip(range(4),[px0,px1,px2,px3],axes.flat):\n",
    "#     im = ax.imshow(jacob_64_474[channel,px[0],px[1],0,:,:],cmap=cmap,norm=MidpointNormalize(midpoint=0,vmin=vmin, vmax=vmax))\n",
    "#     ax.set_title(\"#\"+str(i+1))\n",
    "\n",
    "# fig.colorbar(im, orientation='vertical',ax=axes.ravel().tolist())\n",
    "\n",
    "# plt.show()"
   ]
  },
  {
   "cell_type": "code",
   "execution_count": null,
   "metadata": {},
   "outputs": [],
   "source": [
    "vmin = -.15\n",
    "vmax = .15\n",
    "cmap=plt.cm.bwr\n",
    "px0 = [0,0] \n",
    "px1 = [12,12] \n",
    "px2 = [32,32] # Eyes?\n",
    "px3 = [32,63] # Other eye\n",
    "channel = 0\n",
    "titles = ['#1']\n",
    "\n",
    "fig, axes = plt.subplots(nrows=1, ncols=4,figsize=[25,12])\n",
    "for i,px,ax in zip(range(4),[px0,px1,px2,px3],axes.flat):\n",
    "    im = ax.imshow(jacob_64_474[channel,px[0],px[1],0,:,:],cmap=cmap,norm=MidpointNormalize(midpoint=0,vmin=vmin, vmax=vmax))\n",
    "    ax.set_title(str(px),fontsize=15)\n",
    "#     ax.set_xlabel(\"pixel\")\n",
    "#     ax.set_ylabel(\"pixel\")\n",
    "\n",
    "fig.colorbar(im, orientation='horizontal',shrink=0.9,aspect=70,ax=axes.ravel().tolist())\n",
    "\n",
    "plt.show()"
   ]
  },
  {
   "cell_type": "code",
   "execution_count": null,
   "metadata": {},
   "outputs": [],
   "source": [
    "vmin = -.15\n",
    "vmax = .15\n",
    "cmap=plt.cm.bwr\n",
    "px0 = [0,0] \n",
    "px1 = [12,12] \n",
    "px2 = [32,32] # Eyes?\n",
    "px3 = [32,63] # Other eye\n",
    "channel = 0\n",
    "titles = ['#1']\n",
    "\n",
    "fig, axes = plt.subplots(nrows=1, ncols=4,figsize=[25,12])\n",
    "for i,px,ax in zip(range(4),[px0,px1,px2,px3],axes.flat):\n",
    "    im = ax.imshow(jacob_64_535[channel,px[0],px[1],0,:,:],cmap=cmap,norm=MidpointNormalize(midpoint=0,vmin=vmin, vmax=vmax))\n",
    "    ax.set_title(str(px),fontsize=15)\n",
    "#     ax.set_xlabel(\"pixel\")\n",
    "#     ax.set_ylabel(\"pixel\")\n",
    "\n",
    "fig.colorbar(im, orientation='horizontal',shrink=0.9,aspect=70,ax=axes.ravel().tolist())\n",
    "\n",
    "plt.show()"
   ]
  },
  {
   "cell_type": "code",
   "execution_count": null,
   "metadata": {},
   "outputs": [],
   "source": [
    "# Plot the cropped and reconstructed images\n",
    "fig, axes = plt.subplots(nrows=2, ncols=2,figsize=[15,15])\n",
    "axes.flat[0].imshow(input_cropped_64_474[0,:,:])"
   ]
  },
  {
   "cell_type": "markdown",
   "metadata": {},
   "source": [
    "### 16X16 image"
   ]
  },
  {
   "cell_type": "code",
   "execution_count": null,
   "metadata": {},
   "outputs": [],
   "source": [
    "vmin = -.15\n",
    "vmax = .15\n",
    "cmap=plt.cm.bwr\n",
    "px0 = [0,0] \n",
    "px1 = [3,3] # Center\n",
    "px2 = [8,8] # Eyes?\n",
    "px3 = [8,15] # Other eye\n",
    "channel = 0\n",
    "titles = ['#1']\n",
    "\n",
    "fig, axes = plt.subplots(nrows=1, ncols=4,figsize=[25,12])\n",
    "for i,px,ax in zip(range(4),[px0,px1,px2,px3],axes.flat):\n",
    "    im = ax.imshow(jacob_16_474[channel,px[0],px[1],0,:,:],cmap=cmap,norm=MidpointNormalize(midpoint=0,vmin=vmin, vmax=vmax))\n",
    "    ax.set_title(str(px),fontsize=15)\n",
    "\n",
    "fig.colorbar(im, orientation='horizontal',shrink=0.9,aspect=70,ax=axes.ravel().tolist())\n",
    "\n",
    "plt.show()"
   ]
  },
  {
   "cell_type": "code",
   "execution_count": null,
   "metadata": {},
   "outputs": [],
   "source": [
    "vmin = -.15\n",
    "vmax = .15\n",
    "cmap=plt.cm.bwr\n",
    "px0 = [0,0] \n",
    "px1 = [3,3] # Center\n",
    "px2 = [8,8] # Eyes?\n",
    "px3 = [8,15] # Other eye\n",
    "channel = 0\n",
    "titles = ['#1']\n",
    "\n",
    "fig, axes = plt.subplots(nrows=1, ncols=4,figsize=[25,12])\n",
    "for i,px,ax in zip(range(4),[px0,px1,px2,px3],axes.flat):\n",
    "    im = ax.imshow(jacob_16_535[channel,px[0],px[1],0,:,:],cmap=cmap,norm=MidpointNormalize(midpoint=0,vmin=vmin, vmax=vmax))\n",
    "    ax.set_title(str(px),fontsize=15)\n",
    "\n",
    "fig.colorbar(im, orientation='horizontal',shrink=0.9,aspect=70,ax=axes.ravel().tolist())\n",
    "\n",
    "plt.show()"
   ]
  },
  {
   "cell_type": "markdown",
   "metadata": {},
   "source": [
    "### Other image"
   ]
  },
  {
   "cell_type": "code",
   "execution_count": null,
   "metadata": {},
   "outputs": [],
   "source": [
    "vmin = 0\n",
    "vmax = abs(jacob_64_535).max()*0.2\n",
    "norm = colors.Normalize(vmin=vmin, vmax=vmax)"
   ]
  },
  {
   "cell_type": "markdown",
   "metadata": {},
   "source": [
    "### 16X16 image"
   ]
  },
  {
   "cell_type": "code",
   "execution_count": null,
   "metadata": {},
   "outputs": [],
   "source": [
    "vmin = 0\n",
    "vmax = abs(jacob_16_535).max()*0.1\n",
    "norm_16 = colors.Normalize(vmin=vmin, vmax=vmax)"
   ]
  },
  {
   "cell_type": "code",
   "execution_count": null,
   "metadata": {},
   "outputs": [],
   "source": [
    "print(\"Weight from each input pixel on a specific output pixel\")\n",
    "\n",
    "# Looking for particular features\n",
    "px0 = [0,0] \n",
    "px1 = [0,8] \n",
    "px2 = [4,4] \n",
    "px3 = [8,0] \n",
    "px4 = [8,8] \n",
    "px5 = [12,12] \n",
    "px6 = [12,4] \n",
    "px7 = [15,15]\n",
    "channel = 0\n",
    "\n",
    "jacob_16_535[:,:,:,:,56:72,56:72] = 0\n",
    "fig, ((ax0,ax1,ax2),(ax3, ax4, ax5),(ax6,ax7,ax8)) = plt.subplots(3, 3, figsize=(20,20))\n",
    "\n",
    "ax0.set_title(\"Pixel \"+str(px0))\n",
    "ax1.set_title(\"Pixel \"+str(px1))\n",
    "ax2.set_title(\"Pixel \"+str(px2))\n",
    "ax3.set_title(\"Pixel \"+str(px3))\n",
    "ax4.set_title(\"Pixel \"+str(px4))\n",
    "ax5.set_title(\"Pixel \"+str(px5))\n",
    "ax6.set_title(\"Pixel \"+str(px6))\n",
    "ax7.set_title(\"Pixel \"+str(px7))\n",
    "ax8.set_title(\"Input Image\")\n",
    "\n",
    "im = ax0.imshow(abs(jacob_16_535[channel,px0[0],px0[1],0,:,:]),cmap='binary').set_norm(norm_16)\n",
    "im = ax1.imshow(abs(jacob_16_535[channel,px1[0],px1[1],0,:,:]),cmap='binary').set_norm(norm_16)\n",
    "im = ax2.imshow(abs(jacob_16_535[channel,px2[0],px2[1],0,:,:]),cmap='binary').set_norm(norm_16)\n",
    "im = ax3.imshow(abs(jacob_16_535[channel,px3[0],px3[1],0,:,:]),cmap='binary').set_norm(norm_16)\n",
    "im = ax4.imshow(abs(jacob_16_535[channel,px4[0],px4[1],0,:,:]),cmap='binary').set_norm(norm_16)\n",
    "im = ax5.imshow(abs(jacob_16_535[channel,px5[0],px5[1],0,:,:]),cmap='binary').set_norm(norm_16)\n",
    "im = ax6.imshow(abs(jacob_16_535[channel,px6[0],px6[1],0,:,:]),cmap='binary').set_norm(norm_16)\n",
    "im = ax7.imshow(abs(jacob_16_535[channel,px7[0],px7[1],0,:,:]),cmap='binary').set_norm(norm_16)\n",
    "im = ax8.imshow(input_cropped_16_535[channel,:,:])\n",
    "\n",
    "# fig.colorbar(im7,ax=im7,orientation='horizontal', fraction=.1)"
   ]
  },
  {
   "cell_type": "code",
   "execution_count": null,
   "metadata": {},
   "outputs": [],
   "source": []
  }
 ],
 "metadata": {
  "kernelspec": {
   "display_name": "Python 3",
   "language": "python",
   "name": "python3"
  },
  "language_info": {
   "codemirror_mode": {
    "name": "ipython",
    "version": 3
   },
   "file_extension": ".py",
   "mimetype": "text/x-python",
   "name": "python",
   "nbconvert_exporter": "python",
   "pygments_lexer": "ipython3",
   "version": "3.6.9"
  }
 },
 "nbformat": 4,
 "nbformat_minor": 4
}
